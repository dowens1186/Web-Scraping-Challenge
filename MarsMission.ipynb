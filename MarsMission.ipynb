{
 "cells": [
  {
   "cell_type": "code",
   "execution_count": 17,
   "metadata": {},
   "outputs": [],
   "source": [
    "import traceback\n",
    "import sys\n",
    "from bs4 import BeautifulSoup as bs\n",
    "import pandas as pd\n",
    "from splinter import Browser\n",
    "from webdriver_manager.chrome import ChromeDriverManager"
   ]
  },
  {
   "cell_type": "code",
   "execution_count": 18,
   "metadata": {},
   "outputs": [],
   "source": [
    "nasa_mars_news_url = \"https://mars.nasa.gov/news/\"\n",
    "jpl_mars_space_images_url = \"https://data-class-jpl-space.s3.amazonaws.com/JPL_Space/index.html\"\n",
    "mars_facts_url = \"https://space-facts.com/mars/\"\n",
    "astrogeology_url = \"https://astrogeology.usgs.gov\"\n",
    "mars_hemispheres_url = astrogeology_url + \"/search/results?q=hemisphere+enhanced&k1=target&v1=Mars\""
   ]
  },
  {
   "cell_type": "code",
   "execution_count": 20,
   "metadata": {},
   "outputs": [],
   "source": [
    "class ChromeBrowser(object): \n",
    "    \"\"\"\n",
    "    \"\"\"\n",
    "    def __init__(self, url):\n",
    "        self.url = url \n",
    "      \n",
    "    def __enter__(self): \n",
    "        executable_path = {'executable_path': ChromeDriverManager().install()}\n",
    "        self.browser = Browser('chrome', **executable_path, headless=False)\n",
    "        self.browser.visit(self.url)\n",
    "        return self.browser\n",
    "  \n",
    "    def __exit__(self, exc_type, exc_val, exc_tb):\n",
    "        if (exc_type is not None):\n",
    "            traceback.print_exception(exc_type, exc_val, exc_tb)\n",
    "        if (self.browser is not None):\n",
    "            self.browser.quit() \n",
    "        return True"
   ]
  },
  {
   "cell_type": "code",
   "execution_count": 21,
   "metadata": {},
   "outputs": [
    {
     "name": "stderr",
     "output_type": "stream",
     "text": [
      "\n",
      "\n",
      "====== WebDriver manager ======\n",
      "Current google-chrome version is 93.0.4577\n",
      "Get LATEST driver version for 93.0.4577\n",
      "There is no [win32] chromedriver for browser 93.0.4577 in cache\n",
      "Get LATEST driver version for 93.0.4577\n",
      "Trying to download new driver from https://chromedriver.storage.googleapis.com/93.0.4577.15/chromedriver_win32.zip\n",
      "Driver has been saved in cache [C:\\Users\\dowen\\.wdm\\drivers\\chromedriver\\win32\\93.0.4577.15]\n"
     ]
    },
    {
     "name": "stdout",
     "output_type": "stream",
     "text": [
      "Mars Now\n",
      "\n",
      "The three award recipients – Diana Trujillo, Christina Hernandez, and Clara O’Farrell – are engineers from the NASA rover team. \n"
     ]
    }
   ],
   "source": [
    "news_title = \"\"\n",
    "news_p = \"\"\n",
    "\n",
    "with ChromeBrowser(nasa_mars_news_url) as browser: \n",
    "    html = browser.html\n",
    "    soup = bs(html, \"html.parser\")\n",
    "    news_title = soup.find('div', class_='content_title').text\n",
    "    news_p = soup.find('div', class_='article_teaser_body').text\n",
    "    \n",
    "print(news_title)\n",
    "print()\n",
    "print(news_p)"
   ]
  },
  {
   "cell_type": "code",
   "execution_count": 22,
   "metadata": {},
   "outputs": [
    {
     "name": "stderr",
     "output_type": "stream",
     "text": [
      "\n",
      "\n",
      "====== WebDriver manager ======\n",
      "Current google-chrome version is 93.0.4577\n",
      "Get LATEST driver version for 93.0.4577\n",
      "Driver [C:\\Users\\dowen\\.wdm\\drivers\\chromedriver\\win32\\93.0.4577.15\\chromedriver.exe] found in cache\n"
     ]
    },
    {
     "name": "stdout",
     "output_type": "stream",
     "text": [
      "https://data-class-jpl-space.s3.amazonaws.com/JPL_Space/image/featured/mars3.jpg\n"
     ]
    }
   ],
   "source": [
    "featured_image_url = \"\"\n",
    "\n",
    "with ChromeBrowser(jpl_mars_space_images_url) as browser: \n",
    "    html = browser.html\n",
    "    soup = bs(html, \"html.parser\")\n",
    "    browser.links.find_by_partial_text(\"FULL IMAGE\").click()\n",
    "    html = browser.html\n",
    "    soup = bs(html, \"html.parser\")\n",
    "    featured_image_url = jpl_mars_space_images_url.\\\n",
    "    replace(\n",
    "        \"index.html\", \n",
    "        soup.find(class_=\"fancybox-image\")[\"src\"]\n",
    "    ) \n",
    "    \n",
    "print(featured_image_url)\n"
   ]
  },
  {
   "cell_type": "code",
   "execution_count": 6,
   "metadata": {},
   "outputs": [
    {
     "data": {
      "text/html": [
       "<div>\n",
       "<style scoped>\n",
       "    .dataframe tbody tr th:only-of-type {\n",
       "        vertical-align: middle;\n",
       "    }\n",
       "\n",
       "    .dataframe tbody tr th {\n",
       "        vertical-align: top;\n",
       "    }\n",
       "\n",
       "    .dataframe thead th {\n",
       "        text-align: right;\n",
       "    }\n",
       "</style>\n",
       "<table border=\"1\" class=\"dataframe\">\n",
       "  <thead>\n",
       "    <tr style=\"text-align: right;\">\n",
       "      <th></th>\n",
       "      <th>Mars</th>\n",
       "    </tr>\n",
       "  </thead>\n",
       "  <tbody>\n",
       "    <tr>\n",
       "      <th>Diameter</th>\n",
       "      <td>6,779 km</td>\n",
       "    </tr>\n",
       "    <tr>\n",
       "      <th>Mass</th>\n",
       "      <td>6.39 × 10^23 kg</td>\n",
       "    </tr>\n",
       "    <tr>\n",
       "      <th>Moons</th>\n",
       "      <td>2</td>\n",
       "    </tr>\n",
       "    <tr>\n",
       "      <th>Distance from Sun</th>\n",
       "      <td>227,943,824 km</td>\n",
       "    </tr>\n",
       "    <tr>\n",
       "      <th>Length of Year</th>\n",
       "      <td>687 Earth days</td>\n",
       "    </tr>\n",
       "    <tr>\n",
       "      <th>Temperature</th>\n",
       "      <td>-87 to -5 °C</td>\n",
       "    </tr>\n",
       "  </tbody>\n",
       "</table>\n",
       "</div>"
      ],
      "text/plain": [
       "                              Mars\n",
       "Diameter                  6,779 km\n",
       "Mass               6.39 × 10^23 kg\n",
       "Moons                            2\n",
       "Distance from Sun   227,943,824 km\n",
       "Length of Year      687 Earth days\n",
       "Temperature           -87 to -5 °C"
      ]
     },
     "execution_count": 6,
     "metadata": {},
     "output_type": "execute_result"
    }
   ],
   "source": [
    "mars_facts = pd.read_html(mars_facts_url, match=\"Mars\")[0]\n",
    "mars_facts = mars_facts.set_index(\"Mars - Earth Comparison\", drop=True)\n",
    "mars_facts = mars_facts.transpose()\n",
    "mars_facts.columns = [col.replace(\":\",\"\") for col in mars_facts.columns]\n",
    "mars_facts = mars_facts.drop(\"Earth\")\n",
    "mars_facts = mars_facts.transpose()\n",
    "mars_facts"
   ]
  },
  {
   "cell_type": "code",
   "execution_count": 23,
   "metadata": {},
   "outputs": [
    {
     "data": {
      "text/plain": [
       "'{\"Mars\":{\"Diameter\":\"6,779 km\",\"Mass\":\"6.39 \\\\u00d7 10^23 kg\",\"Moons\":\"2\",\"Distance from Sun\":\"227,943,824 km\",\"Length of Year\":\"687 Earth days\",\"Temperature\":\"-87 to -5 \\\\u00b0C\"}}'"
      ]
     },
     "execution_count": 23,
     "metadata": {},
     "output_type": "execute_result"
    }
   ],
   "source": [
    "mars_facts.to_json()"
   ]
  },
  {
   "cell_type": "code",
   "execution_count": 25,
   "metadata": {},
   "outputs": [
    {
     "name": "stderr",
     "output_type": "stream",
     "text": [
      "\n",
      "\n",
      "====== WebDriver manager ======\n",
      "Current google-chrome version is 93.0.4577\n",
      "Get LATEST driver version for 93.0.4577\n",
      "Driver [C:\\Users\\dowen\\.wdm\\drivers\\chromedriver\\win32\\93.0.4577.15\\chromedriver.exe] found in cache\n"
     ]
    },
    {
     "name": "stdout",
     "output_type": "stream",
     "text": [
      "{'title': 'Cerberus Hemisphere Enhanced', 'img_url': 'https://astrogeology.usgs.gov/cache/images/f5e372a36edfa389625da6d0cc25d905_cerberus_enhanced.tif_full.jpg'}\n",
      "{'title': 'Schiaparelli Hemisphere Enhanced', 'img_url': 'https://astrogeology.usgs.gov/cache/images/3778f7b43bbbc89d6e3cfabb3613ba93_schiaparelli_enhanced.tif_full.jpg'}\n",
      "{'title': 'Syrtis Major Hemisphere Enhanced', 'img_url': 'https://astrogeology.usgs.gov/cache/images/555e6403a6ddd7ba16ddb0e471cadcf7_syrtis_major_enhanced.tif_full.jpg'}\n",
      "{'title': 'Valles Marineris Hemisphere Enhanced', 'img_url': 'https://astrogeology.usgs.gov/cache/images/b3c7c6c9138f57b4756be9b9c43e3a48_valles_marineris_enhanced.tif_full.jpg'}\n"
     ]
    }
   ],
   "source": [
    "hemisphere_image_urls = []\n",
    "\n",
    "with ChromeBrowser(mars_hemispheres_url) as browser: \n",
    "    html = browser.html\n",
    "    soup = bs(html, \"html.parser\")\n",
    "    results = soup.find(class_=\"result-list\").find_all(class_=\"item\")\n",
    "    for result in results:\n",
    "        hemisphere = {}\n",
    "        hemisphere[\"title\"] = result.find(\"h3\").text\n",
    "        browser.links.find_by_partial_text(hemisphere[\"title\"]).click()\n",
    "        html = browser.html\n",
    "        soup = bs(html, \"html.parser\")\n",
    "        hemisphere[\"img_url\"] = astrogeology_url + soup.find(class_=\"wide-image\")[\"src\"]\n",
    "        hemisphere_image_urls.append(hemisphere)\n",
    "        browser.back()\n",
    "        \n",
    "for url in hemisphere_image_urls:\n",
    "    print(url)"
   ]
  },
  {
   "cell_type": "code",
   "execution_count": null,
   "metadata": {},
   "outputs": [],
   "source": []
  }
 ],
 "metadata": {
  "kernelspec": {
   "display_name": "Python 3",
   "language": "python",
   "name": "python3"
  },
  "language_info": {
   "codemirror_mode": {
    "name": "ipython",
    "version": 3
   },
   "file_extension": ".py",
   "mimetype": "text/x-python",
   "name": "python",
   "nbconvert_exporter": "python",
   "pygments_lexer": "ipython3",
   "version": "3.7.6"
  }
 },
 "nbformat": 4,
 "nbformat_minor": 4
}
